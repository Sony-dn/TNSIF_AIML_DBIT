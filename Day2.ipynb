{
 "cells": [
  {
   "cell_type": "code",
   "execution_count": 12,
   "id": "f2471f87-8a31-43f2-9dd7-91350e3ff072",
   "metadata": {},
   "outputs": [
    {
     "name": "stdin",
     "output_type": "stream",
     "text": [
      "Enter a number:  250\n"
     ]
    },
    {
     "name": "stdout",
     "output_type": "stream",
     "text": [
      "Current sum: 250\n"
     ]
    },
    {
     "name": "stdin",
     "output_type": "stream",
     "text": [
      "Enter a number:  50\n"
     ]
    },
    {
     "name": "stdout",
     "output_type": "stream",
     "text": [
      "Current sum: 300\n",
      "Sum has reached 300\n"
     ]
    }
   ],
   "source": [
    "total = 0\n",
    "while total < 300:\n",
    "    try:\n",
    "        num = int(input(\"Enter a number: \"))\n",
    "        total += num\n",
    "        print(f\"Current sum: {total}\")\n",
    "    except ValueError:\n",
    "        print(\"Please enter a valid integer.\")\n",
    "\n",
    "print(\"Sum has reached 300\")"
   ]
  },
  {
   "cell_type": "code",
   "execution_count": 11,
   "id": "e61c5122-7d0c-4367-bad3-f201631f0a1a",
   "metadata": {},
   "outputs": [
    {
     "name": "stdin",
     "output_type": "stream",
     "text": [
      "enter name sony\n"
     ]
    },
    {
     "name": "stdout",
     "output_type": "stream",
     "text": [
      "s\n",
      "n\n",
      "y\n"
     ]
    }
   ],
   "source": [
    "n=input('enter name')\n",
    "for i in n:\n",
    "    if i=='a' or i=='e' or i=='i' or i=='o' or i=='u':\n",
    "        continue\n",
    "    else:\n",
    "        print(i)"
   ]
  },
  {
   "cell_type": "code",
   "execution_count": 13,
   "id": "3b5403f8-09bf-4a99-a31d-008929775c19",
   "metadata": {},
   "outputs": [
    {
     "name": "stdin",
     "output_type": "stream",
     "text": [
      "Enter a string:  madhu\n"
     ]
    },
    {
     "name": "stdout",
     "output_type": "stream",
     "text": [
      "Voyage\n"
     ]
    }
   ],
   "source": [
    "while True:\n",
    "    user = input(\"Enter a string: \")\n",
    "    if user == \"Bon\" or \"bon\":\n",
    "        print(\"Voyage\")\n",
    "        break"
   ]
  },
  {
   "cell_type": "code",
   "execution_count": 14,
   "id": "151ac70e-72f6-4d40-af5a-02638f438f00",
   "metadata": {},
   "outputs": [
    {
     "name": "stdin",
     "output_type": "stream",
     "text": [
      "Enter your door number and street:  5687\n"
     ]
    },
    {
     "name": "stdout",
     "output_type": "stream",
     "text": [
      "Numbers in the address: 5687\n"
     ]
    }
   ],
   "source": [
    "address = input(\"Enter your door number and street: \")\n",
    "\n",
    "numbers = \"\"\n",
    "for char in address:\n",
    "    if '0' <= char <= '9':\n",
    "        numbers += char\n",
    "\n",
    "print(\"Numbers in the address:\", numbers)"
   ]
  },
  {
   "cell_type": "code",
   "execution_count": 18,
   "id": "8045138a-6e3d-4dc8-abb8-33273749507d",
   "metadata": {},
   "outputs": [
    {
     "data": {
      "text/plain": [
       "range(2, 20, 4)"
      ]
     },
     "execution_count": 18,
     "metadata": {},
     "output_type": "execute_result"
    }
   ],
   "source": [
    "range(2,20,4)"
   ]
  },
  {
   "cell_type": "code",
   "execution_count": 26,
   "id": "5e959400-e165-471e-b215-1c81b8b84477",
   "metadata": {},
   "outputs": [
    {
     "name": "stdout",
     "output_type": "stream",
     "text": [
      "['hi', 'hello', 'where', 'good', 'when']\n"
     ]
    }
   ],
   "source": [
    "text=['hi','hello','why','what','when']\n",
    "text[2]='where'\n",
    "text[3]='good'\n",
    "print(text)"
   ]
  },
  {
   "cell_type": "code",
   "execution_count": 27,
   "id": "1f8e76e1-6125-4757-aef6-24a5b01ae023",
   "metadata": {},
   "outputs": [
    {
     "name": "stdin",
     "output_type": "stream",
     "text": [
      "Enter first item:  hi\n",
      "Enter second item:  hello\n",
      "Enter third item:  how\n",
      "Enter fourth item:  fine\n",
      "Enter fifth item:  good\n",
      "Enter your name:  bye\n"
     ]
    },
    {
     "name": "stdout",
     "output_type": "stream",
     "text": [
      "final list: ['hi', 'hello', 'bye', 'fine', 'bye']\n"
     ]
    }
   ],
   "source": [
    "a = input(\"Enter first item: \")\n",
    "b = input(\"Enter second item: \")\n",
    "c = input(\"Enter third item: \")\n",
    "d = input(\"Enter fourth item: \")\n",
    "e = input(\"Enter fifth item: \")\n",
    "my_list = [a, b, c, d, e]\n",
    "name = input(\"Enter your name: \")\n",
    "my_list[2] = name\n",
    "my_list[4] = name\n",
    "print(\"final list:\", my_list)"
   ]
  },
  {
   "cell_type": "code",
   "execution_count": 30,
   "id": "3c8d34f4-6466-48a9-b02f-2a82297a6d63",
   "metadata": {},
   "outputs": [
    {
     "name": "stdin",
     "output_type": "stream",
     "text": [
      "Enter elements :  apple\n",
      "Enter index:  1\n",
      "Enter new element:  ball\n"
     ]
    },
    {
     "name": "stdout",
     "output_type": "stream",
     "text": [
      "Updated list: ['apple', 'ball']\n"
     ]
    }
   ],
   "source": [
    "list_input = input(\"Enter elements : \")\n",
    "list = list_input.split()  \n",
    "i = int(input(\"Enter index: \"))\n",
    "e = input(\"Enter new element: \")\n",
    "if i >= 0 and i <= len(list):\n",
    "    list.insert(i, e)\n",
    "else:\n",
    "    print(\"Invalid index, element will not be appended.\")\n",
    "    list.append(e)\n",
    "\n",
    "print(\"Updated list:\", list)"
   ]
  },
  {
   "cell_type": "code",
   "execution_count": null,
   "id": "cbc099b7-36a9-4fc2-aa32-81f885651bee",
   "metadata": {},
   "outputs": [],
   "source": []
  }
 ],
 "metadata": {
  "kernelspec": {
   "display_name": "Python 3 (ipykernel)",
   "language": "python",
   "name": "python3"
  },
  "language_info": {
   "codemirror_mode": {
    "name": "ipython",
    "version": 3
   },
   "file_extension": ".py",
   "mimetype": "text/x-python",
   "name": "python",
   "nbconvert_exporter": "python",
   "pygments_lexer": "ipython3",
   "version": "3.13.6"
  }
 },
 "nbformat": 4,
 "nbformat_minor": 5
}
