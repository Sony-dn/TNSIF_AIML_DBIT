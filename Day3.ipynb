{
 "cells": [
  {
   "cell_type": "code",
   "execution_count": 1,
   "id": "74376521-49ae-4e79-94e6-2230631fcdd9",
   "metadata": {},
   "outputs": [
    {
     "name": "stdout",
     "output_type": "stream",
     "text": [
      "['apple', 'ball', 'dog', 'egg', 'fish', 'goat', 'hat', 'ice', 'jug']\n"
     ]
    }
   ],
   "source": [
    "list=['apple','ball','cat','dog','egg','fish','goat','hat','ice','jug']\n",
    "list.pop(2)\n",
    "print(list)"
   ]
  },
  {
   "cell_type": "code",
   "execution_count": 3,
   "id": "a9e375de-3b4c-4b1b-aed8-590501569501",
   "metadata": {},
   "outputs": [
    {
     "name": "stdin",
     "output_type": "stream",
     "text": [
      "Enter 10 numbers:  1 2 3 4 5 6 7 8 9 10\n"
     ]
    },
    {
     "name": "stdout",
     "output_type": "stream",
     "text": [
      "Updated list: [2, 4, 6, 8, 10]\n"
     ]
    }
   ],
   "source": [
    "a = input(\"Enter 10 numbers: \").split()\n",
    "nums = [int(x) for x in a]\n",
    "del nums[2]\n",
    "final = []\n",
    "for i in nums:\n",
    "    if i % 2 == 0:\n",
    "        final.append(i)\n",
    "print(\"Updated list:\", final)"
   ]
  },
  {
   "cell_type": "code",
   "execution_count": 5,
   "id": "97f14e38-7a64-4574-bedc-ad578f4994bb",
   "metadata": {},
   "outputs": [
    {
     "name": "stdout",
     "output_type": "stream",
     "text": [
      "2 4 6 8 10 "
     ]
    }
   ],
   "source": [
    "list = [1, 2, 3, 4, 5, 6, 7, 8, 9, 10]\n",
    "list.pop(2)\n",
    "\n",
    "for i in list:\n",
    "    if i % 2 == 0:\n",
    "        print(i,end=' ')"
   ]
  },
  {
   "cell_type": "code",
   "execution_count": null,
   "id": "f88ded42-cbc3-423f-8955-f247a4648b3c",
   "metadata": {},
   "outputs": [],
   "source": []
  }
 ],
 "metadata": {
  "kernelspec": {
   "display_name": "Python 3 (ipykernel)",
   "language": "python",
   "name": "python3"
  },
  "language_info": {
   "codemirror_mode": {
    "name": "ipython",
    "version": 3
   },
   "file_extension": ".py",
   "mimetype": "text/x-python",
   "name": "python",
   "nbconvert_exporter": "python",
   "pygments_lexer": "ipython3",
   "version": "3.13.6"
  }
 },
 "nbformat": 4,
 "nbformat_minor": 5
}
