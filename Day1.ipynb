{
 "cells": [
  {
   "cell_type": "code",
   "execution_count": 1,
   "id": "12b8c89d-9bc9-40ac-b228-c45e35f1325c",
   "metadata": {},
   "outputs": [
    {
     "name": "stdin",
     "output_type": "stream",
     "text": [
      "Enter your PIN:  5678\n"
     ]
    },
    {
     "name": "stdout",
     "output_type": "stream",
     "text": [
      "Access granted.\n",
      "\n",
      "\n",
      "--- ATM Menu ---\n",
      "1. Check Balance\n",
      "2. Deposit\n",
      "3. Withdraw\n",
      "4. Exit\n"
     ]
    },
    {
     "name": "stdin",
     "output_type": "stream",
     "text": [
      "Choose an option (1-4):  1\n"
     ]
    },
    {
     "name": "stdout",
     "output_type": "stream",
     "text": [
      "Your current balance is ₹15000\n",
      "\n",
      "--- ATM Menu ---\n",
      "1. Check Balance\n",
      "2. Deposit\n",
      "3. Withdraw\n",
      "4. Exit\n"
     ]
    },
    {
     "name": "stdin",
     "output_type": "stream",
     "text": [
      "Choose an option (1-4):  2\n",
      "Enter amount to deposit: ₹ 200\n"
     ]
    },
    {
     "name": "stdout",
     "output_type": "stream",
     "text": [
      "Deposited ₹200.0. New balance: ₹15200.0\n",
      "\n",
      "--- ATM Menu ---\n",
      "1. Check Balance\n",
      "2. Deposit\n",
      "3. Withdraw\n",
      "4. Exit\n"
     ]
    },
    {
     "name": "stdin",
     "output_type": "stream",
     "text": [
      "Choose an option (1-4):  3\n",
      "Enter amount to withdraw: ₹ 200\n"
     ]
    },
    {
     "name": "stdout",
     "output_type": "stream",
     "text": [
      "Withdrew ₹200.0. New balance: ₹15000.0\n",
      "\n",
      "--- ATM Menu ---\n",
      "1. Check Balance\n",
      "2. Deposit\n",
      "3. Withdraw\n",
      "4. Exit\n"
     ]
    },
    {
     "name": "stdin",
     "output_type": "stream",
     "text": [
      "Choose an option (1-4):  4\n"
     ]
    },
    {
     "name": "stdout",
     "output_type": "stream",
     "text": [
      "Thank you for using the ATM.\n"
     ]
    }
   ],
   "source": [
    "pin = \"5678\"\n",
    "balance = 15000\n",
    "tries = 0\n",
    "limit = 3\n",
    "\n",
    "while tries < limit:\n",
    "    user_pin = input(\"Enter your PIN: \")\n",
    "    if user_pin == pin:\n",
    "        print(\"Access granted.\\n\")\n",
    "        break\n",
    "    else:\n",
    "        tries += 1\n",
    "        print(f\"Incorrect PIN. Attempts left: {limit - tries}\")\n",
    "\n",
    "if tries == limit:\n",
    "    print(\"Card blocked. Too many incorrect attempts.\")\n",
    "else:\n",
    "    while True:\n",
    "        print(\"\\n--- ATM Menu ---\")\n",
    "        print(\"1. Check Balance\")\n",
    "        print(\"2. Deposit\")\n",
    "        print(\"3. Withdraw\")\n",
    "        print(\"4. Exit\")\n",
    "\n",
    "        option = input(\"Choose an option (1-4): \")\n",
    "\n",
    "        if option == \"1\":\n",
    "            print(f\"Your current balance is ₹{balance}\")\n",
    "        \n",
    "        elif option == \"2\":\n",
    "            amt = float(input(\"Enter amount to deposit: ₹\"))\n",
    "            if amt > 0:\n",
    "                balance += amt\n",
    "                print(f\"Deposited ₹{amt}. New balance: ₹{balance}\")\n",
    "            else:\n",
    "                print(\"Amount must be greater than 0.\")\n",
    "        \n",
    "        elif option == \"3\":\n",
    "            amt = float(input(\"Enter amount to withdraw: ₹\"))\n",
    "            if 0 < amt <= balance:\n",
    "                balance -= amt\n",
    "                print(f\"Withdrew ₹{amt}. New balance: ₹{balance}\")\n",
    "            else:\n",
    "                print(\"Invalid or insufficient amount.\")\n",
    "        \n",
    "        elif option == \"4\":\n",
    "            print(\"Thank you for using the ATM.\")\n",
    "            break\n",
    "        \n",
    "        else:\n",
    "            print(\"Invalid option. Please try again.\")\n"
   ]
  },
  {
   "cell_type": "code",
   "execution_count": null,
   "id": "35afe88c-66fe-44d4-bef6-290a0e4fa3fb",
   "metadata": {},
   "outputs": [],
   "source": []
  }
 ],
 "metadata": {
  "kernelspec": {
   "display_name": "Python 3 (ipykernel)",
   "language": "python",
   "name": "python3"
  },
  "language_info": {
   "codemirror_mode": {
    "name": "ipython",
    "version": 3
   },
   "file_extension": ".py",
   "mimetype": "text/x-python",
   "name": "python",
   "nbconvert_exporter": "python",
   "pygments_lexer": "ipython3",
   "version": "3.13.6"
  }
 },
 "nbformat": 4,
 "nbformat_minor": 5
}
