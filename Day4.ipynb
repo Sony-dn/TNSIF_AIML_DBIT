{
 "cells": [
  {
   "cell_type": "code",
   "execution_count": 2,
   "id": "f091cb35-80d3-46d3-855c-cccdfd406822",
   "metadata": {},
   "outputs": [
    {
     "name": "stdout",
     "output_type": "stream",
     "text": [
      "Current phonebook: {'Ram': 9876012345, 'Sneha': 9123567890, 'Aman': 9988654321, 'Tina': 9090123456}\n"
     ]
    },
    {
     "name": "stdin",
     "output_type": "stream",
     "text": [
      "Enter the name whose number is to be modified:  Sneha\n",
      "Enter the new number:  8934662367\n"
     ]
    },
    {
     "name": "stdout",
     "output_type": "stream",
     "text": [
      "Number modified successfully.\n",
      "Updated phonebook: {'Ram': 9876012345, 'Sneha': 8934662367, 'Aman': 9988654321, 'Tina': 9090123456}\n"
     ]
    }
   ],
   "source": [
    "phonebook = {\n",
    "    \"Ram\": 9876012345,\n",
    "    \"Sneha\": 9123567890,\n",
    "    \"Aman\": 9988654321,\n",
    "    \"Tina\": 9090123456\n",
    "}\n",
    "print(\"Current phonebook:\", phonebook)\n",
    "name = input(\"Enter the name whose number is to be modified: \")\n",
    "\n",
    "if name in phonebook:\n",
    "    new_number = int(input(\"Enter the new number: \"))\n",
    "    phonebook[name] = new_number\n",
    "    print(\"Number modified successfully.\")\n",
    "else:\n",
    "    print(name, \"was not found in the phonebook.\")\n",
    "print(\"Updated phonebook:\", phonebook)"
   ]
  },
  {
   "cell_type": "code",
   "execution_count": 3,
   "id": "443c9c91-40a0-4cfb-8f50-dc22b40fb894",
   "metadata": {},
   "outputs": [
    {
     "name": "stdout",
     "output_type": "stream",
     "text": [
      "{'Ravi': 9012345678, 'Meera': 9123456780, 'Karan': 9234567891}\n",
      "{'Ravi': 9345678902, 'Meera': 9123456780, 'Karan': 9234567891}\n",
      "{'Ravi': 9345678902, 'Meera': 9123456780, 'Karan': 9234567891, 'Aisha': 9456789013}\n"
     ]
    }
   ],
   "source": [
    "phonebook = {\n",
    "    \"Ravi\": 9012345678,\n",
    "    \"Meera\": 9123456780,\n",
    "    \"Karan\": 9234567891\n",
    "}\n",
    "print(phonebook)\n",
    "phonebook[\"Ravi\"] = 9345678902\n",
    "print(phonebook)\n",
    "phonebook.update({\"Aisha\": 9456789013})\n",
    "print(phonebook)"
   ]
  },
  {
   "cell_type": "code",
   "execution_count": 5,
   "id": "abd22a1c-ce4a-4745-b78c-4d32680a1181",
   "metadata": {},
   "outputs": [
    {
     "name": "stdout",
     "output_type": "stream",
     "text": [
      "Phonebook: {'Amar': 9876543210, 'Boby': 8765432109, 'Chandu': 7654321098, 'Darma': 6543210987}\n"
     ]
    },
    {
     "name": "stdin",
     "output_type": "stream",
     "text": [
      "Enter the name to delete:  Chandu\n"
     ]
    },
    {
     "name": "stdout",
     "output_type": "stream",
     "text": [
      "Chandu deleted successfully.\n",
      "Updated phonebook: {'Amar': 9876543210, 'Boby': 8765432109, 'Darma': 6543210987}\n"
     ]
    }
   ],
   "source": [
    "phonebook = {\n",
    "    \"Amar\": 9876543210,\n",
    "    \"Boby\": 8765432109,\n",
    "    \"Chandu\": 7654321098,\n",
    "    \"Darma\": 6543210987\n",
    "}\n",
    "print(\"Phonebook:\", phonebook)\n",
    "name = input(\"Enter the name to delete: \")\n",
    "if name in phonebook:\n",
    "    del phonebook[name]\n",
    "    print(f\"{name} deleted successfully.\")\n",
    "    print(\"Updated phonebook:\", phonebook)\n",
    "else:\n",
    "    print(f\"{name} was not found in the phonebook.\")"
   ]
  },
  {
   "cell_type": "code",
   "execution_count": 6,
   "id": "6714f069-b634-46e1-838b-5eb4a88b6406",
   "metadata": {},
   "outputs": [
    {
     "name": "stdout",
     "output_type": "stream",
     "text": [
      "<class 'dict'>\n",
      "{}\n",
      "dict_keys([])\n"
     ]
    }
   ],
   "source": [
    "phonebook={\"aaa\":8475125632,\"bbb\":8745963215,\"ccc\":8745632159,\"ddd\":7589632145}\n",
    "print(type(phonebook))\n",
    "phonebook.clear()\n",
    "print(phonebook)\n",
    "print(phonebook.keys())"
   ]
  },
  {
   "cell_type": "code",
   "execution_count": 12,
   "id": "93ee2a27-d517-4e74-8ff1-e3158cc68be0",
   "metadata": {},
   "outputs": [
    {
     "name": "stdin",
     "output_type": "stream",
     "text": [
      "How many employee records do you want to enter?  2\n"
     ]
    },
    {
     "name": "stdout",
     "output_type": "stream",
     "text": [
      "\n",
      "Employee 1\n"
     ]
    },
    {
     "name": "stdin",
     "output_type": "stream",
     "text": [
      "Enter employee name:  sony\n",
      "Enter ID number for sony:  234\n"
     ]
    },
    {
     "name": "stdout",
     "output_type": "stream",
     "text": [
      "\n",
      "Employee 2\n"
     ]
    },
    {
     "name": "stdin",
     "output_type": "stream",
     "text": [
      "Enter employee name:  sathvi\n",
      "Enter ID number for sathvi:  138\n"
     ]
    },
    {
     "name": "stdout",
     "output_type": "stream",
     "text": [
      "\n",
      "Employee Records\n",
      "Name: sony ID: 234\n",
      "Name: sathvi ID: 138\n"
     ]
    }
   ],
   "source": [
    "num = int(input(\"How many employee records do you want to enter? \"))\n",
    "employee_records = {}\n",
    "for i in range(num):\n",
    "    print(f\"\\nEmployee {i+1}\")\n",
    "    emp_name = input(\"Enter employee name: \")\n",
    "    emp_id = input(f\"Enter ID number for {emp_name}: \")\n",
    "    employee_records[emp_name] = emp_id\n",
    "print(\"\\nEmployee Records\")\n",
    "for name, emp_id in employee_records.items():\n",
    "    print(f\"Name: {name} ID: {emp_id}\")"
   ]
  },
  {
   "cell_type": "code",
   "execution_count": null,
   "id": "9ab6833c-fc77-45d3-9d53-9d0b5239f1bd",
   "metadata": {},
   "outputs": [],
   "source": []
  }
 ],
 "metadata": {
  "kernelspec": {
   "display_name": "Python 3 (ipykernel)",
   "language": "python",
   "name": "python3"
  },
  "language_info": {
   "codemirror_mode": {
    "name": "ipython",
    "version": 3
   },
   "file_extension": ".py",
   "mimetype": "text/x-python",
   "name": "python",
   "nbconvert_exporter": "python",
   "pygments_lexer": "ipython3",
   "version": "3.13.6"
  }
 },
 "nbformat": 4,
 "nbformat_minor": 5
}
